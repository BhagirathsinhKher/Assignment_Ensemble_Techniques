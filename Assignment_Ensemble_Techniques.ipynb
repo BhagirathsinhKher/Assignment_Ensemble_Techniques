{
  "nbformat": 4,
  "nbformat_minor": 0,
  "metadata": {
    "colab": {
      "provenance": []
    },
    "kernelspec": {
      "name": "python3",
      "display_name": "Python 3"
    },
    "language_info": {
      "name": "python"
    }
  },
  "cells": [
    {
      "cell_type": "markdown",
      "source": [
        "$$ #THEORITICAL $$"
      ],
      "metadata": {
        "id": "WuR3W9OZ-V8y"
      }
    },
    {
      "cell_type": "markdown",
      "source": [
        "1. Can we use Bagging for regression problems?\n",
        "- Yes, Bagging can be used for regression problems.\n",
        "- Explanation:\n",
        "  - Bagging (Bootstrap Aggregating) is a general ensemble technique.\n",
        "  - It works by training multiple models on different bootstrapped samples.\n",
        "  - For **regression**, it combines predictions by **averaging**.\n",
        "  - Common algorithm: **Bagging Regressor** using base models like **Decision Tree Regressor**.\n",
        "---"
      ],
      "metadata": {
        "id": "1y8oKnqH-Rvf"
      }
    },
    {
      "cell_type": "markdown",
      "source": [
        "2.  What is the difference between multiple model training and single model training?\n",
        "\n",
        "| **Aspect**               | **Single Model Training**                       | **Multiple Model Training**                        |\n",
        "|--------------------------|--------------------------------------------------|----------------------------------------------------|\n",
        "| **Definition**           | Train only one model on the entire dataset      | Train multiple models (ensemble) on subsets/data   |\n",
        "| **Example**              | Logistic Regression, Decision Tree              | Bagging, Boosting, Random Forest                   |\n",
        "| **Performance**          | May underfit or overfit                         | Usually improves accuracy and generalization       |\n",
        "| **Computation Time**     | Faster                                           | Slower due to multiple models                      |\n",
        "| **Complexity**           | Simple                                           | More complex to implement and tune                 |\n",
        "| **Robustness**           | Less robust to noise or outliers                | More robust by averaging or voting mechanisms      |\n",
        "\n",
        "---"
      ],
      "metadata": {
        "id": "bxZwOzGp_iLh"
      }
    },
    {
      "cell_type": "markdown",
      "source": [
        "3. Explain the concept of feature randomness in Random Forest?\n",
        "- Feature Randomness in Random Forest:\n",
        "  - At each split in a decision tree, **only a random subset of features** is considered (not all).\n",
        "  - This introduces **diversity** among trees in the forest.\n",
        "  - Helps to **reduce correlation** between individual trees.\n",
        "  - Improves **generalization** and prevents overfitting.\n",
        "- How it works:\n",
        "  - For classification: typically use $\\sqrt{n_{\\text{features}}}$\n",
        "  - For regression: typically use $ n_{\\text{features}} / 3 $\n",
        "- Benefit:\n",
        "  - Makes the ensemble more **robust** and **less biased** than individual decision trees.\n",
        "---"
      ],
      "metadata": {
        "id": "Wm4OjlYF_xBn"
      }
    },
    {
      "cell_type": "markdown",
      "source": [
        "4. What is OOB (Out-of-Bag) Score?\n",
        "- OOB (Out-of-Bag) Score:\n",
        "  - A **validation technique** used in Bagging (especially Random Forest).\n",
        "  - Each tree is trained on a **bootstrap sample** (random subset with replacement).\n",
        "  - Around **1/3rd of the data is left out** (not used in training) — called **Out-of-Bag samples**.\n",
        "  - These OOB samples are used to **evaluate model performance** without needing a separate validation set.\n",
        "\n",
        "---"
      ],
      "metadata": {
        "id": "6DQoXxQE_-PX"
      }
    },
    {
      "cell_type": "markdown",
      "source": [
        "5. How can you measure the importance of features in a Random Forest model?\n",
        "- Feature Importance in Random Forest:\n",
        "  - Random Forest measures feature importance based on how **much each feature reduces impurity** (e.g., Gini or MSE) across all trees.\n",
        "  - When a feature is used to split a node, the **impurity decrease** from that split is added to the feature’s total importance score.\n",
        "  - This score is **averaged** over all trees in the forest.\n",
        "  - Higher the score, **more important** the feature is for prediction.\n",
        "  - Can be accessed using `.feature_importances_` attribute in scikit-learn.\n",
        "---"
      ],
      "metadata": {
        "id": "phtl3Bo9AEok"
      }
    },
    {
      "cell_type": "markdown",
      "source": [
        "6. Explain the working principle of a Bagging Classifier.\n",
        "- Bagging Classifier:\n",
        "  - Stands for **Bootstrap Aggregating**, used to improve model stability and accuracy.\n",
        "  - Trains **multiple base models** (like Decision Trees) on **different bootstrapped subsets** of the training data.\n",
        "  - Each subset is created by **random sampling with replacement**.\n",
        "  - Final prediction is made by **majority voting** from all base classifiers.\n",
        "  - Helps to **reduce variance** and prevents **overfitting**.\n",
        "  - Performs well especially with **unstable models** like decision trees.\n",
        "\n",
        "---"
      ],
      "metadata": {
        "id": "bDsvijuo_-Xv"
      }
    },
    {
      "cell_type": "markdown",
      "source": [
        "7. How do you evaluate a Bagging Classifier’s performance?\n",
        "- Evaluating Bagging Classifier’s Performance:\n",
        "  - **Accuracy**: Measure the proportion of correct predictions.\n",
        "  - **Confusion Matrix**: Gives insights into true positives, false positives, true negatives, and false negatives.\n",
        "  - **Precision, Recall, F1-Score**: Used for evaluating performance in imbalanced datasets.\n",
        "  - **Out-of-Bag (OOB) Score**: Estimate model performance without needing a separate validation set.\n",
        "  - **Cross-Validation**: Split data into training and testing sets multiple times to get an average performance metric.\n",
        "---"
      ],
      "metadata": {
        "id": "FNz4TNVX_-e-"
      }
    },
    {
      "cell_type": "markdown",
      "source": [
        "8. How does a Bagging Regressor work?\n",
        "- Bagging Regressor:\n",
        "  - Uses the **Bagging** technique for regression problems.\n",
        "  - Trains multiple **regression models** (e.g., Decision Tree Regressors) on **bootstrapped samples** of the data.\n",
        "  - Each model makes its own prediction based on a different subset of data.\n",
        "  - Final prediction is obtained by **averaging** the individual predictions from all models.\n",
        "  - Helps to reduce **variance** and improve **generalization**.\n",
        "  - Often improves performance of **unstable regressors** like Decision Trees.\n",
        "---"
      ],
      "metadata": {
        "id": "tDYTPFLQ_-lW"
      }
    },
    {
      "cell_type": "markdown",
      "source": [
        "9. What is the main advantage of ensemble techniques?\n",
        "- Main Advantage of Ensemble Techniques:\n",
        "  - **Improved Accuracy**: Combines predictions from multiple models to increase overall performance.\n",
        "  - **Reduction in Overfitting**: By averaging or voting, ensemble methods reduce the likelihood of overfitting compared to individual models.\n",
        "  - **Better Generalization**: Helps to create a model that generalizes well on unseen data.\n",
        "  - **Robustness**: More resilient to errors, outliers, and noise in the data.\n",
        "  - **Diversity**: Combines different types of models or different subsets of data to capture a wider range of patterns.\n",
        "---"
      ],
      "metadata": {
        "id": "1hInrsXI_-r3"
      }
    },
    {
      "cell_type": "markdown",
      "source": [
        "10. What is the main challenge of ensemble methods?\n",
        "- Main Challenge of Ensemble Methods:\n",
        "  - **Increased Computational Complexity**: Training multiple models requires more time and resources.\n",
        "  - **Interpretability**: It can be harder to interpret the decision-making process of an ensemble compared to a single model.\n",
        "  - **Overfitting**: If not properly tuned, ensemble methods can still overfit, especially when the base models are too complex or not diverse enough.\n",
        "  - **Memory Consumption**: Storing and maintaining multiple models requires more memory, which could be problematic for large datasets.\n",
        "  - **Complexity in Tuning**: Tuning multiple models and parameters can be more difficult than tuning a single model.\n",
        "\n",
        "---"
      ],
      "metadata": {
        "id": "eQdzlYJJ_-yP"
      }
    },
    {
      "cell_type": "markdown",
      "source": [
        "11. Explain the key idea behind ensemble techniques.\n",
        "- Key Idea Behind Ensemble Techniques:\n",
        "  - **Combine multiple models** to improve overall performance.\n",
        "  - **Diversity**: Each model in the ensemble captures different patterns or aspects of the data.\n",
        "  - **Aggregation**: Final prediction is made by combining individual predictions through methods like **voting** (for classification) or **averaging** (for regression).\n",
        "  - **Bias-Variance Tradeoff**: Ensemble methods help to **reduce variance** (through averaging) and sometimes **reduce bias** (through boosting).\n",
        "  - Aim is to leverage the **strengths of multiple models** to achieve better accuracy and robustness than individual models.\n",
        "---"
      ],
      "metadata": {
        "id": "-4BfsHNt_-3a"
      }
    },
    {
      "cell_type": "markdown",
      "source": [
        "12.  What is a Random Forest Classifier?\n",
        "- Random Forest Classifier:\n",
        "  - An **ensemble learning method** that combines multiple **decision trees** to improve classification accuracy.\n",
        "  - Each tree is trained on a **random bootstrap sample** of the data, with **random feature selection** at each split.\n",
        "  - The final prediction is made through **majority voting** from all the trees.\n",
        "  - **Reduces overfitting** compared to a single decision tree.\n",
        "  - **Handles high-dimensional data** well and can deal with both **classification** and **regression** tasks.\n",
        "  - Performs well on datasets with **missing values** and **non-linear relationships**.\n",
        "---"
      ],
      "metadata": {
        "id": "HZbrOA_o_-8t"
      }
    },
    {
      "cell_type": "markdown",
      "source": [
        "13. What are the main types of ensemble techniques?\n",
        "- Main Types of Ensemble Techniques:\n",
        "  - **Bagging (Bootstrap Aggregating)**:\n",
        "    - Trains multiple models on **bootstrapped subsets** of the data.\n",
        "    - Final prediction is made by **averaging** (regression) or **voting** (classification).\n",
        "    - Example: **Random Forest**.\n",
        "  - **Boosting**:\n",
        "    - Trains models **sequentially**, each model tries to correct errors of the previous one.\n",
        "    - Final prediction is a **weighted sum** of all models' predictions.\n",
        "    - Example: **AdaBoost**, **Gradient Boosting**.\n",
        "  - **Stacking**:\n",
        "    - Combines multiple models by training a **meta-model** to learn the best way to combine the predictions of base models.\n",
        "    - The base models' predictions serve as features for the meta-model.\n",
        "    - Example: **Stacked Generalization**.\n",
        "---"
      ],
      "metadata": {
        "id": "dAS4diiA__be"
      }
    },
    {
      "cell_type": "markdown",
      "source": [
        "14. What is ensemble learning in machine learning?\n",
        "- Ensemble Learning in Machine Learning:\n",
        "  - **Combines multiple models** to improve overall performance, accuracy, and generalization.\n",
        "  - Aims to leverage the **strengths** of different models and reduce their **weaknesses**.\n",
        "  - Models work together by either **voting** (classification) or **averaging** (regression) to make a final prediction.\n",
        "  - **Reduces overfitting** and **variance** by aggregating diverse models.\n",
        "  - Types of ensemble learning methods include **Bagging**, **Boosting**, and **Stacking**.\n",
        "  - Commonly used ensemble algorithms: **Random Forest**, **AdaBoost**, **Gradient Boosting**.\n",
        "---"
      ],
      "metadata": {
        "id": "geiPrj_m__if"
      }
    },
    {
      "cell_type": "markdown",
      "source": [
        "15. When should we avoid using ensemble methods?\n",
        "- When to Avoid Using Ensemble Methods:\n",
        "  - **Small Datasets**: Ensemble methods may not offer significant improvements over single models on small datasets.\n",
        "  - **Limited Computational Resources**: Training multiple models can be computationally expensive and memory-intensive.\n",
        "  - **Simple Problems**: For problems that are easily solved by a single model, using ensembles may lead to unnecessary complexity.\n",
        "  - **Interpretability Required**: Ensemble models are often difficult to interpret, which can be problematic in cases where model transparency is crucial.\n",
        "  - **Risk of Overfitting**: If not properly tuned, ensembles can overfit the data, especially when base models are too complex.\n",
        "---"
      ],
      "metadata": {
        "id": "Lyq2YmGiAALp"
      }
    },
    {
      "cell_type": "markdown",
      "source": [
        "16. How does Bagging help in reducing overfitting?\n",
        "- How Bagging Helps in Reducing Overfitting:\n",
        "  - **Reduces Variance**: By training multiple models on different bootstrapped subsets, Bagging decreases the model’s variance.\n",
        "  - **Averages Predictions**: Averaging the predictions from multiple models smoothens out individual model errors, preventing overfitting to noisy data.\n",
        "  - **Diverse Models**: Each model learns slightly different patterns, reducing the likelihood of overfitting to specific data points or noise.\n",
        "  - **Improved Generalization**: Aggregating predictions from many weak models makes the overall model less sensitive to outliers and overfits, improving generalization.\n",
        "---"
      ],
      "metadata": {
        "id": "WEFIZev0AATC"
      }
    },
    {
      "cell_type": "markdown",
      "source": [
        "17. Why is Random Forest better than a single Decision Tree?\n",
        "- Why Random Forest is Better Than a Single Decision Tree:\n",
        "  - **Reduced Overfitting**: Random Forest aggregates multiple decision trees, which reduces the risk of overfitting compared to a single decision tree that may overfit to the training data.\n",
        "  - **Higher Accuracy**: By averaging or voting across multiple trees, Random Forest typically provides better accuracy than a single tree.\n",
        "  - **Improved Generalization**: The randomness introduced in tree training (bootstrap sampling and random feature selection) helps in making the model more robust and generalize better to unseen data.\n",
        "  - **Handles Missing Values**: Random Forest can handle missing values better than a single decision tree.\n",
        "  - **Better Performance on High-Dimensional Data**: Random Forest handles large datasets and many features more efficiently than a single decision tree.\n",
        "  - **Less Sensitive to Noise**: Random Forest is less sensitive to noise and outliers than a single decision tree.\n",
        "---"
      ],
      "metadata": {
        "id": "R0oH5FpOA6vb"
      }
    },
    {
      "cell_type": "markdown",
      "source": [
        "18. What is the role of bootstrap sampling in Bagging?\n",
        "- Role of Bootstrap Sampling in Bagging:\n",
        "  - **Creates Diverse Datasets**: Bootstrap sampling generates multiple datasets by randomly selecting **samples with replacement** from the original dataset.\n",
        "  - **Ensures Model Diversity**: Each model in the ensemble is trained on a different subset of the data, introducing **variability** among the models.\n",
        "  - **Reduces Overfitting**: By training on different subsets, each model is less likely to overfit to the noise or specific characteristics of the entire dataset.\n",
        "  - **Improves Generalization**: Combining predictions from multiple models trained on diverse data samples leads to better generalization and a more robust overall model.\n",
        "  - **Simulates Resampling**: The process of bootstrapping mimics the idea of having more data, allowing models to be more resilient and accurate.\n",
        "---"
      ],
      "metadata": {
        "id": "PLsduHi2A_FM"
      }
    },
    {
      "cell_type": "markdown",
      "source": [
        "19. What are some real-world applications of ensemble techniques?\n",
        "- Real-World Applications of Ensemble Techniques:\n",
        "  - **Healthcare**:\n",
        "    - Predicting disease outcomes (e.g., cancer diagnosis) by combining models that analyze patient data.\n",
        "    - Improving the accuracy of medical image classification (e.g., MRI or CT scans).\n",
        "  - **Finance**:\n",
        "    - Credit scoring and fraud detection by aggregating models that analyze customer behavior and transaction data.\n",
        "    - Stock market prediction by combining models that consider historical data, trends, and patterns.\n",
        "  - **Marketing**:\n",
        "    - Customer segmentation and churn prediction by combining decision models to identify key customer behavior patterns.\n",
        "    - Product recommendation systems that combine collaborative filtering and content-based models.\n",
        "  - **E-commerce**:\n",
        "    - Price prediction and demand forecasting using ensemble models to combine predictions from multiple algorithms.\n",
        "    - Sentiment analysis from product reviews by aggregating multiple natural language processing models.\n",
        "  - **Image and Speech Recognition**:\n",
        "    - Object detection in autonomous driving by combining different models that analyze sensor data, images, and video feeds.\n",
        "    - Speech-to-text conversion using ensemble models to improve accuracy and handle different accents or noise.\n",
        "---"
      ],
      "metadata": {
        "id": "yhTuFsyhBC3D"
      }
    },
    {
      "cell_type": "markdown",
      "source": [
        "20. What is the difference between Bagging and Boosting?\n",
        "\n",
        "| **Aspect**               | **Bagging**                                      | **Boosting**                                     |\n",
        "|--------------------------|--------------------------------------------------|-------------------------------------------------|\n",
        "| **Model Training**        | Models are trained **independently** in parallel on bootstrapped data subsets. | Models are trained **sequentially**, each model corrects errors of the previous one. |\n",
        "| **Data Sampling**         | Uses **bootstrapped samples** (sampling with replacement). | Uses **weighted data samples**, focusing more on previously misclassified data. |\n",
        "| **Final Prediction**      | Final prediction is made by **averaging** (regression) or **majority voting** (classification). | Final prediction is a **weighted sum** of all model predictions. |\n",
        "| **Bias and Variance**     | Reduces **variance** by averaging multiple models. | Reduces **bias** by focusing on hard-to-predict data. |\n",
        "| **Handling of Weak Models** | Combines many **weak models** to improve performance. | Focuses on **stronger models** by correcting errors of weaker ones. |\n",
        "| **Example Algorithms**    | Random Forest, Bagging Classifier.              | AdaBoost, Gradient Boosting, XGBoost.          |"
      ],
      "metadata": {
        "id": "QpCp9ANhBHwU"
      }
    },
    {
      "cell_type": "markdown",
      "source": [
        "$$ #PRACTICAL $$"
      ],
      "metadata": {
        "id": "z49sJvqYFsw7"
      }
    },
    {
      "cell_type": "code",
      "source": [
        "#21. Train a Bagging Classifier using Decision Trees on a sample dataset and print model accuracy.\n",
        "\n",
        "import numpy as np\n",
        "from sklearn.datasets import load_digits\n",
        "from sklearn.model_selection import train_test_split\n",
        "from sklearn.metrics import accuracy_score\n",
        "from sklearn.tree import DecisionTreeClassifier\n",
        "from sklearn.ensemble import BaggingClassifier\n",
        "\n",
        "# Load the digits dataset\n",
        "digits = load_digits()\n",
        "X, y = digits.data, digits.target\n",
        "\n",
        "# Split dataset into training and testing sets (80% train, 20% test)\n",
        "X_train, X_test, y_train, y_test = train_test_split(X, y, test_size=0.2, random_state=42)\n",
        "\n",
        "# Initialize base classifier: Decision Tree\n",
        "base_clf = DecisionTreeClassifier(random_state=42)\n",
        "\n",
        "# Initialize Bagging Classifier with 10 Decision Trees\n",
        "bagging_clf = BaggingClassifier(estimator=base_clf, n_estimators=10, random_state=42)\n",
        "\n",
        "# Train the Bagging Classifier\n",
        "bagging_clf.fit(X_train, y_train)\n",
        "\n",
        "# Predict on the test set\n",
        "y_pred = bagging_clf.predict(X_test)\n",
        "\n",
        "# Calculate and print accuracy\n",
        "accuracy = accuracy_score(y_test, y_pred)\n",
        "print(\"Accuracy of Bagging Classifier with Decision Trees: {:.4f}\".format(accuracy))\n",
        "\n"
      ],
      "metadata": {
        "id": "AzaQ1NPTF4NA",
        "colab": {
          "base_uri": "https://localhost:8080/"
        },
        "outputId": "a5405cb0-22b7-45de-ba4b-7646a628b3be"
      },
      "execution_count": null,
      "outputs": [
        {
          "output_type": "stream",
          "name": "stdout",
          "text": [
            "Accuracy of Bagging Classifier with Decision Trees: 0.9444\n"
          ]
        }
      ]
    },
    {
      "cell_type": "code",
      "source": [
        "#22. Train a Bagging Regressor using Decision Trees and evaluate using Mean Squared Error (MSE).\n",
        "\n",
        "import numpy as np\n",
        "from sklearn.datasets import fetch_california_housing\n",
        "from sklearn.model_selection import train_test_split\n",
        "from sklearn.metrics import mean_squared_error\n",
        "from sklearn.tree import DecisionTreeRegressor\n",
        "from sklearn.ensemble import BaggingRegressor\n",
        "\n",
        "# Load the California housing dataset\n",
        "housing = fetch_california_housing()\n",
        "X, y = housing.data, housing.target\n",
        "\n",
        "# Split dataset into training and testing sets (80% train, 20% test)\n",
        "X_train, X_test, y_train, y_test = train_test_split(X, y, test_size=0.2, random_state=42)\n",
        "\n",
        "# Initialize base regressor: Decision Tree\n",
        "base_regressor = DecisionTreeRegressor(random_state=42)\n",
        "\n",
        "# Initialize Bagging Regressor with 10 Decision Trees\n",
        "bagging_regressor = BaggingRegressor(estimator=base_regressor, n_estimators=10, random_state=42)\n",
        "\n",
        "# Train the Bagging Regressor\n",
        "bagging_regressor.fit(X_train, y_train)\n",
        "\n",
        "# Predict on the test set\n",
        "y_pred = bagging_regressor.predict(X_test)\n",
        "\n",
        "# Calculate Mean Squared Error (MSE)\n",
        "mse = mean_squared_error(y_test, y_pred)\n",
        "print(\"Mean Squared Error of Bagging Regressor with Decision Trees: {:.4f}\".format(mse))\n",
        "\n"
      ],
      "metadata": {
        "id": "APLMDgsQLsxV",
        "colab": {
          "base_uri": "https://localhost:8080/"
        },
        "outputId": "a3642435-b146-4636-ba6b-fe2eb1f45409"
      },
      "execution_count": null,
      "outputs": [
        {
          "output_type": "stream",
          "name": "stdout",
          "text": [
            "Mean Squared Error of Bagging Regressor with Decision Trees: 0.2824\n"
          ]
        }
      ]
    },
    {
      "cell_type": "code",
      "source": [
        "#23. Train a Random Forest Classifier on the Breast Cancer dataset and print feature importance scores.\n",
        "\n",
        "# Import necessary libraries\n",
        "from sklearn.datasets import load_breast_cancer\n",
        "from sklearn.ensemble import RandomForestClassifier\n",
        "import pandas as pd\n",
        "import numpy as np\n",
        "\n",
        "# Load the Breast Cancer dataset\n",
        "data = load_breast_cancer()\n",
        "X = data.data\n",
        "y = data.target\n",
        "feature_names = data.feature_names\n",
        "\n",
        "# Initialize and train the Random Forest Classifier\n",
        "rf = RandomForestClassifier(n_estimators=100, random_state=42)\n",
        "rf.fit(X, y)\n",
        "\n",
        "# Get feature importances\n",
        "importances = rf.feature_importances_\n",
        "\n",
        "# Create a DataFrame for better visualization\n",
        "importance_df = pd.DataFrame({\n",
        "    'Feature': feature_names,\n",
        "    'Importance': importances\n",
        "})\n",
        "\n",
        "# Sort by importance\n",
        "importance_df = importance_df.sort_values(by='Importance', ascending=False)\n",
        "\n",
        "# Print the feature importance scores\n",
        "print(importance_df)"
      ],
      "metadata": {
        "id": "7sUqy3f2LxsT",
        "colab": {
          "base_uri": "https://localhost:8080/"
        },
        "outputId": "32923c5f-89c0-407b-cd7c-b36a2402112c"
      },
      "execution_count": null,
      "outputs": [
        {
          "output_type": "stream",
          "name": "stdout",
          "text": [
            "                    Feature  Importance\n",
            "23               worst area    0.139357\n",
            "27     worst concave points    0.132225\n",
            "7       mean concave points    0.107046\n",
            "20             worst radius    0.082848\n",
            "22          worst perimeter    0.080850\n",
            "2            mean perimeter    0.067990\n",
            "6            mean concavity    0.066917\n",
            "3                 mean area    0.060462\n",
            "26          worst concavity    0.037339\n",
            "0               mean radius    0.034843\n",
            "13               area error    0.029553\n",
            "25        worst compactness    0.019864\n",
            "21            worst texture    0.017485\n",
            "1              mean texture    0.015225\n",
            "10             radius error    0.014264\n",
            "24         worst smoothness    0.012232\n",
            "5          mean compactness    0.011597\n",
            "12          perimeter error    0.010085\n",
            "28           worst symmetry    0.008179\n",
            "4           mean smoothness    0.007958\n",
            "19  fractal dimension error    0.005942\n",
            "16          concavity error    0.005820\n",
            "15        compactness error    0.005612\n",
            "14         smoothness error    0.004722\n",
            "29  worst fractal dimension    0.004497\n",
            "17     concave points error    0.003760\n",
            "11            texture error    0.003744\n",
            "18           symmetry error    0.003546\n",
            "8             mean symmetry    0.003423\n",
            "9    mean fractal dimension    0.002615\n"
          ]
        }
      ]
    },
    {
      "cell_type": "code",
      "source": [
        "#24. Train a Random Forest Regressor and compare its performance with a single Decision Tree.\n",
        "\n",
        "# Import necessary libraries\n",
        "from sklearn.datasets import fetch_california_housing\n",
        "from sklearn.model_selection import train_test_split\n",
        "from sklearn.tree import DecisionTreeRegressor\n",
        "from sklearn.ensemble import RandomForestRegressor\n",
        "from sklearn.metrics import mean_squared_error, r2_score\n",
        "import numpy as np\n",
        "\n",
        "# Load dataset\n",
        "data = fetch_california_housing()\n",
        "X = data.data\n",
        "y = data.target\n",
        "\n",
        "# Split the data\n",
        "X_train, X_test, y_train, y_test = train_test_split(X, y, test_size=0.2, random_state=42)\n",
        "\n",
        "# Initialize models\n",
        "tree = DecisionTreeRegressor(random_state=42)\n",
        "forest = RandomForestRegressor(n_estimators=100, random_state=42)\n",
        "\n",
        "# Train models\n",
        "tree.fit(X_train, y_train)\n",
        "forest.fit(X_train, y_train)\n",
        "\n",
        "# Predict\n",
        "y_pred_tree = tree.predict(X_test)\n",
        "y_pred_forest = forest.predict(X_test)\n",
        "\n",
        "# Evaluate performance\n",
        "mse_tree = mean_squared_error(y_test, y_pred_tree)\n",
        "r2_tree = r2_score(y_test, y_pred_tree)\n",
        "\n",
        "mse_forest = mean_squared_error(y_test, y_pred_forest)\n",
        "r2_forest = r2_score(y_test, y_pred_forest)\n",
        "\n",
        "# Print comparison\n",
        "print(\"Decision Tree Regressor:\")\n",
        "print(f\"  MSE: {mse_tree:.4f}\")\n",
        "print(f\"  R²: {r2_tree:.4f}\")\n",
        "\n",
        "print(\"\\nRandom Forest Regressor:\")\n",
        "print(f\"  MSE: {mse_forest:.4f}\")\n",
        "print(f\"  R²: {r2_forest:.4f}\")\n"
      ],
      "metadata": {
        "id": "WkXdAvfBL1VM",
        "colab": {
          "base_uri": "https://localhost:8080/"
        },
        "outputId": "adb0a73d-ff5a-4b31-ce57-626ee1e9396c"
      },
      "execution_count": null,
      "outputs": [
        {
          "output_type": "stream",
          "name": "stdout",
          "text": [
            "Decision Tree Regressor:\n",
            "  MSE: 0.4952\n",
            "  R²: 0.6221\n",
            "\n",
            "Random Forest Regressor:\n",
            "  MSE: 0.2554\n",
            "  R²: 0.8051\n"
          ]
        }
      ]
    },
    {
      "cell_type": "code",
      "source": [
        "#25. Compute the Out-of-Bag (OOB) Score for a Random Forest Classifier.\n",
        "\n",
        "# Import necessary libraries\n",
        "from sklearn.datasets import load_breast_cancer\n",
        "from sklearn.ensemble import RandomForestClassifier\n",
        "\n",
        "# Load the dataset\n",
        "data = load_breast_cancer()\n",
        "X = data.data\n",
        "y = data.target\n",
        "\n",
        "# Initialize the Random Forest Classifier with OOB score enabled\n",
        "rf = RandomForestClassifier(n_estimators=100, oob_score=True, random_state=42)\n",
        "rf.fit(X, y)\n",
        "\n",
        "# Print the Out-of-Bag Score\n",
        "print(f\"OOB Score: {rf.oob_score_:.4f}\")\n"
      ],
      "metadata": {
        "id": "6cL-5fDTL5L1",
        "colab": {
          "base_uri": "https://localhost:8080/"
        },
        "outputId": "006a5202-cdd6-4cdd-8281-993a14828bf7"
      },
      "execution_count": null,
      "outputs": [
        {
          "output_type": "stream",
          "name": "stdout",
          "text": [
            "OOB Score: 0.9613\n"
          ]
        }
      ]
    },
    {
      "cell_type": "code",
      "source": [
        "#26. Train a Bagging Classifier using SVM as a base estimator and print accuracy.\n",
        "\n",
        "from sklearn.datasets import load_breast_cancer\n",
        "from sklearn.model_selection import train_test_split\n",
        "from sklearn.svm import SVC\n",
        "from sklearn.ensemble import BaggingClassifier\n",
        "from sklearn.metrics import accuracy_score\n",
        "\n",
        "# Load dataset\n",
        "data = load_breast_cancer()\n",
        "X = data.data\n",
        "y = data.target\n",
        "\n",
        "# Split dataset\n",
        "X_train, X_test, y_train, y_test = train_test_split(X, y, test_size=0.2, random_state=42)\n",
        "\n",
        "# Initialize SVM model\n",
        "svm = SVC(probability=True, kernel='rbf')\n",
        "\n",
        "# Use 'estimator' instead of 'base_estimator' for newer versions of sklearn\n",
        "bagging_clf = BaggingClassifier(estimator=svm, n_estimators=10, random_state=42)\n",
        "\n",
        "# Train the model\n",
        "bagging_clf.fit(X_train, y_train)\n",
        "\n",
        "# Predict on test set\n",
        "y_pred = bagging_clf.predict(X_test)\n",
        "\n",
        "# Print accuracy\n",
        "accuracy = accuracy_score(y_test, y_pred)\n",
        "print(f\"Bagging Classifier Accuracy with SVM: {accuracy:.4f}\")\n"
      ],
      "metadata": {
        "id": "Qc-S6M-pL9HY",
        "colab": {
          "base_uri": "https://localhost:8080/"
        },
        "outputId": "fbc7382b-21b8-485a-df2b-82449b13f04c"
      },
      "execution_count": null,
      "outputs": [
        {
          "output_type": "stream",
          "name": "stdout",
          "text": [
            "Bagging Classifier Accuracy with SVM: 0.9474\n"
          ]
        }
      ]
    },
    {
      "cell_type": "code",
      "source": [
        "#27. Train a Random Forest Classifier with different numbers of trees and compare accuracy.\n",
        "\n",
        "from sklearn.datasets import load_breast_cancer\n",
        "from sklearn.model_selection import train_test_split\n",
        "from sklearn.ensemble import RandomForestClassifier\n",
        "from sklearn.metrics import accuracy_score\n",
        "import matplotlib.pyplot as plt\n",
        "\n",
        "# Load the dataset\n",
        "data = load_breast_cancer()\n",
        "X = data.data\n",
        "y = data.target\n",
        "\n",
        "# Split into train and test\n",
        "X_train, X_test, y_train, y_test = train_test_split(X, y, test_size=0.2, random_state=42)\n",
        "\n",
        "# List of different numbers of trees to test\n",
        "tree_counts = [1, 5, 10, 50, 100, 200]\n",
        "accuracies = []\n",
        "\n",
        "# Train and evaluate for each tree count\n",
        "for n in tree_counts:\n",
        "    rf = RandomForestClassifier(n_estimators=n, random_state=42)\n",
        "    rf.fit(X_train, y_train)\n",
        "    y_pred = rf.predict(X_test)\n",
        "    acc = accuracy_score(y_test, y_pred)\n",
        "    accuracies.append(acc)\n",
        "    print(f\"n_estimators = {n} --> Accuracy = {acc:.4f}\")\n",
        "\n",
        "# Optional: Plot the results\n",
        "plt.figure(figsize=(8, 5))\n",
        "plt.plot(tree_counts, accuracies, marker='o', linestyle='--', color='green')\n",
        "plt.title('Random Forest Accuracy vs Number of Trees')\n",
        "plt.xlabel('Number of Trees (n_estimators)')\n",
        "plt.ylabel('Accuracy')\n",
        "plt.grid(True)\n",
        "plt.show()\n"
      ],
      "metadata": {
        "id": "IloaxD09L_6s",
        "colab": {
          "base_uri": "https://localhost:8080/",
          "height": 591
        },
        "outputId": "8dceed97-4654-4884-a216-19d2d5bed9fb"
      },
      "execution_count": null,
      "outputs": [
        {
          "output_type": "stream",
          "name": "stdout",
          "text": [
            "n_estimators = 1 --> Accuracy = 0.9386\n",
            "n_estimators = 5 --> Accuracy = 0.9474\n",
            "n_estimators = 10 --> Accuracy = 0.9561\n",
            "n_estimators = 50 --> Accuracy = 0.9649\n",
            "n_estimators = 100 --> Accuracy = 0.9649\n",
            "n_estimators = 200 --> Accuracy = 0.9649\n"
          ]
        },
        {
          "output_type": "display_data",
          "data": {
            "text/plain": [
              "<Figure size 800x500 with 1 Axes>"
            ],
            "image/png": "[encoded data removed]"
          },
          "metadata": {}
        }
      ]
    },
    {
      "cell_type": "code",
      "source": [
        "#28. Train a Bagging Classifier using Logistic Regression as a base estimator and print AUC score.\n",
        "from sklearn.datasets import load_breast_cancer\n",
        "from sklearn.model_selection import train_test_split\n",
        "from sklearn.linear_model import LogisticRegression\n",
        "from sklearn.ensemble import BaggingClassifier\n",
        "from sklearn.metrics import roc_auc_score\n",
        "\n",
        "# Load dataset\n",
        "data = load_breast_cancer()\n",
        "X = data.data\n",
        "y = data.target\n",
        "\n",
        "# Split dataset\n",
        "X_train, X_test, y_train, y_test = train_test_split(X, y, test_size=0.2, random_state=42)\n",
        "\n",
        "# Initialize base estimator\n",
        "log_reg = LogisticRegression(max_iter=1000, solver='liblinear')  # 'liblinear' works well for binary classification\n",
        "\n",
        "# Create Bagging Classifier (use 'estimator' for sklearn >= 1.2)\n",
        "bagging_clf = BaggingClassifier(estimator=log_reg, n_estimators=10, random_state=42)\n",
        "\n",
        "# Train the model\n",
        "bagging_clf.fit(X_train, y_train)\n",
        "\n",
        "# Predict probabilities for AUC\n",
        "y_prob = bagging_clf.predict_proba(X_test)[:, 1]\n",
        "\n",
        "# Compute AUC score\n",
        "auc_score = roc_auc_score(y_test, y_prob)\n",
        "print(f\"Bagging Classifier AUC Score with Logistic Regression: {auc_score:.4f}\")\n"
      ],
      "metadata": {
        "id": "7IV54AurMDhG",
        "colab": {
          "base_uri": "https://localhost:8080/"
        },
        "outputId": "8d14567b-a186-498c-c64a-c94fd6c8eaab"
      },
      "execution_count": null,
      "outputs": [
        {
          "output_type": "stream",
          "name": "stdout",
          "text": [
            "Bagging Classifier AUC Score with Logistic Regression: 0.9974\n"
          ]
        }
      ]
    },
    {
      "cell_type": "code",
      "source": [
        "#29. Train a Random Forest Regressor and analyze feature importance scores.\n",
        "from sklearn.datasets import fetch_california_housing\n",
        "from sklearn.ensemble import RandomForestRegressor\n",
        "from sklearn.model_selection import train_test_split\n",
        "import pandas as pd\n",
        "import matplotlib.pyplot as plt\n",
        "\n",
        "# Load dataset\n",
        "data = fetch_california_housing()\n",
        "X = pd.DataFrame(data.data, columns=data.feature_names)\n",
        "y = data.target\n",
        "\n",
        "# Train-test split\n",
        "X_train, X_test, y_train, y_test = train_test_split(X, y, test_size=0.2, random_state=42)\n",
        "\n",
        "# Initialize and train Random Forest Regressor\n",
        "rf = RandomForestRegressor(n_estimators=100, random_state=42)\n",
        "rf.fit(X_train, y_train)\n",
        "\n",
        "# Get feature importances\n",
        "importances = rf.feature_importances_\n",
        "feature_importance_df = pd.DataFrame({\n",
        "    'Feature': X.columns,\n",
        "    'Importance': importances\n",
        "}).sort_values(by='Importance', ascending=False)\n",
        "\n",
        "# Print feature importance\n",
        "print(\"Feature Importance Scores:\\n\")\n",
        "print(feature_importance_df)\n",
        "\n",
        "# Optional: Plot\n",
        "plt.figure(figsize=(10, 6))\n",
        "plt.barh(feature_importance_df['Feature'], feature_importance_df['Importance'], color='teal')\n",
        "plt.gca().invert_yaxis()\n",
        "plt.title('Feature Importances from Random Forest Regressor')\n",
        "plt.xlabel('Importance Score')\n",
        "plt.grid(True)\n",
        "plt.tight_layout()\n",
        "plt.show()\n"
      ],
      "metadata": {
        "id": "Hw-U2Fu2MJub",
        "colab": {
          "base_uri": "https://localhost:8080/",
          "height": 798
        },
        "outputId": "7fd8f791-599c-4757-82cb-74750d4c6104"
      },
      "execution_count": null,
      "outputs": [
        {
          "output_type": "stream",
          "name": "stdout",
          "text": [
            "Feature Importance Scores:\n",
            "\n",
            "      Feature  Importance\n",
            "0      MedInc    0.524871\n",
            "5    AveOccup    0.138443\n",
            "6    Latitude    0.088936\n",
            "7   Longitude    0.088629\n",
            "1    HouseAge    0.054593\n",
            "2    AveRooms    0.044272\n",
            "4  Population    0.030650\n",
            "3   AveBedrms    0.029606\n"
          ]
        },
        {
          "output_type": "display_data",
          "data": {
            "text/plain": [
              "<Figure size 1000x600 with 1 Axes>"
            ],
            "image/png": "[encoded data removed]"
          },
          "metadata": {}
        }
      ]
    },
    {
      "cell_type": "code",
      "source": [
        "#30. Train an ensemble model using both Bagging and Random Forest and compare accuracy.\n",
        "from sklearn.datasets import load_breast_cancer\n",
        "from sklearn.model_selection import train_test_split\n",
        "from sklearn.ensemble import BaggingClassifier, RandomForestClassifier\n",
        "from sklearn.tree import DecisionTreeClassifier\n",
        "from sklearn.metrics import accuracy_score\n",
        "\n",
        "# Load dataset\n",
        "data = load_breast_cancer()\n",
        "X = data.data\n",
        "y = data.target\n",
        "\n",
        "# Split the dataset\n",
        "X_train, X_test, y_train, y_test = train_test_split(X, y, test_size=0.2, random_state=42)\n",
        "\n",
        "# Bagging Classifier with Decision Tree as base estimator\n",
        "bagging = BaggingClassifier(estimator=DecisionTreeClassifier(), n_estimators=100, random_state=42)\n",
        "bagging.fit(X_train, y_train)\n",
        "y_pred_bagging = bagging.predict(X_test)\n",
        "acc_bagging = accuracy_score(y_test, y_pred_bagging)\n",
        "\n",
        "# Random Forest Classifier\n",
        "rf = RandomForestClassifier(n_estimators=100, random_state=42)\n",
        "rf.fit(X_train, y_train)\n",
        "y_pred_rf = rf.predict(X_test)\n",
        "acc_rf = accuracy_score(y_test, y_pred_rf)\n",
        "\n",
        "# Print comparison\n",
        "print(f\"Bagging Classifier Accuracy:      {acc_bagging:.4f}\")\n",
        "print(f\"Random Forest Classifier Accuracy: {acc_rf:.4f}\")\n"
      ],
      "metadata": {
        "id": "n6T_rpBdMNaz",
        "colab": {
          "base_uri": "https://localhost:8080/"
        },
        "outputId": "bf5e6715-470d-4e60-d38e-ccd75270053d"
      },
      "execution_count": null,
      "outputs": [
        {
          "output_type": "stream",
          "name": "stdout",
          "text": [
            "Bagging Classifier Accuracy:      0.9561\n",
            "Random Forest Classifier Accuracy: 0.9649\n"
          ]
        }
      ]
    },
    {
      "cell_type": "code",
      "source": [
        "#31. Train a Random Forest Classifier and tune hyperparameters using GridSearchCV.\n",
        "\n",
        "import pandas as pd\n",
        "from sklearn.ensemble import RandomForestClassifier\n",
        "from sklearn.model_selection import train_test_split, GridSearchCV\n",
        "from sklearn.metrics import classification_report\n",
        "\n",
        "# Load the dataset\n",
        "data = pd.read_csv('https://raw.githubusercontent.com/lucifertrj/100DaysOfML/main/Day14%3A%20Logistic_Regression_Metric_and_practice/heart_disease.csv')\n",
        "X = data.drop('target', axis=1)\n",
        "y = data['target']\n",
        "\n",
        "# Split the dataset into training and testing sets\n",
        "X_train, X_test, y_train, y_test = train_test_split(X, y, test_size=0.25, random_state=42)\n",
        "\n",
        "# Create a Random Forest Classifier instance\n",
        "rfc = RandomForestClassifier(random_state=42)\n",
        "\n",
        "# Define the parameter grid for hyperparameter tuning\n",
        "param_grid = {\n",
        "    'n_estimators': [50, 100, 150],\n",
        "    'max_depth': [None, 10, 20],\n",
        "    'min_samples_split': [2, 5, 10],\n",
        "    'min_samples_leaf': [1, 2, 4],\n",
        "    'max_features': ['sqrt', 'log2']\n",
        "}\n",
        "\n",
        "# Initialize GridSearchCV with the Random Forest model and parameter grid\n",
        "grid_search = GridSearchCV(estimator=rfc, param_grid=param_grid, cv=5, n_jobs=-1, scoring='accuracy')\n",
        "\n",
        "# Fit the GridSearchCV to the training data\n",
        "grid_search.fit(X_train, y_train)\n",
        "\n",
        "# Retrieve the best parameters and score\n",
        "print(f\"Best Hyperparameters: {grid_search.best_params_}\")\n",
        "print(f\"Best Cross-Validation Score: {grid_search.best_score_:.4f}\")\n",
        "\n",
        "# Make predictions using the best model\n",
        "best_model = grid_search.best_estimator_\n",
        "y_pred = best_model.predict(X_test)\n",
        "\n",
        "# Print classification report\n",
        "print(classification_report(y_test, y_pred))\n"
      ],
      "metadata": {
        "id": "O3w-9UduMQW0"
      },
      "execution_count": null,
      "outputs": []
    },
    {
      "cell_type": "code",
      "source": [
        "#32. Train a Bagging Regressor with different numbers of base estimators and compare performance.\n",
        "\n",
        "import numpy as np\n",
        "from sklearn.model_selection import train_test_split\n",
        "from sklearn.ensemble import BaggingRegressor\n",
        "from sklearn.tree import DecisionTreeRegressor\n",
        "from sklearn.metrics import mean_squared_error, r2_score\n",
        "import matplotlib.pyplot as plt\n",
        "\n",
        "# 1. Generate a sample regression dataset (you can replace this with your own data)\n",
        "np.random.seed(42)\n",
        "X = np.sort(5 * np.random.rand(100, 1), axis=0)\n",
        "y = np.sin(X).ravel() + 0.5 * np.random.randn(len(X))\n",
        "X_train, X_test, y_train, y_test = train_test_split(X, y, test_size=0.3, random_state=42)\n",
        "\n",
        "# 2. Define the range of n_estimators to test\n",
        "n_estimators_range = [10, 50, 100, 200, 500]\n",
        "mse_scores = []\n",
        "r2_scores = []\n",
        "\n",
        "# 3. Train and evaluate Bagging Regressors for each n_estimators value\n",
        "for n_estimators in n_estimators_range:\n",
        "    # Create a BaggingRegressor with Decision Tree as the base estimator\n",
        "    bagging_regressor = BaggingRegressor(estimator=DecisionTreeRegressor(random_state=42),\n",
        "                                         n_estimators=n_estimators,\n",
        "                                         random_state=42)\n",
        "\n",
        "    # Train the model\n",
        "    bagging_regressor.fit(X_train, y_train)\n",
        "\n",
        "    # Make predictions\n",
        "    y_pred = bagging_regressor.predict(X_test)\n",
        "\n",
        "    # Evaluate performance\n",
        "    mse = mean_squared_error(y_test, y_pred)\n",
        "    r2 = r2_score(y_test, y_pred)\n",
        "    mse_scores.append(mse)\n",
        "    r2_scores.append(r2)\n",
        "\n",
        "# 4. Compare the performance\n",
        "print(\"Performance comparison for different numbers of base estimators:\")\n",
        "for i, n in enumerate(n_estimators_range):\n",
        "    print(f\"n_estimators: {n}, MSE: {mse_scores[i]:.4f}, R-squared: {r2_scores[i]:.4f}\")\n",
        "\n"
      ],
      "metadata": {
        "id": "im7hqkwpMUYD",
        "colab": {
          "base_uri": "https://localhost:8080/"
        },
        "outputId": "8df928bd-2ac0-4061-af70-1ee6d24a396c"
      },
      "execution_count": null,
      "outputs": [
        {
          "output_type": "stream",
          "name": "stdout",
          "text": [
            "Performance comparison for different numbers of base estimators:\n",
            "n_estimators: 10, MSE: 0.2548, R-squared: 0.5554\n",
            "n_estimators: 50, MSE: 0.2369, R-squared: 0.5866\n",
            "n_estimators: 100, MSE: 0.2315, R-squared: 0.5961\n",
            "n_estimators: 200, MSE: 0.2285, R-squared: 0.6013\n",
            "n_estimators: 500, MSE: 0.2273, R-squared: 0.6033\n"
          ]
        }
      ]
    },
    {
      "cell_type": "code",
      "source": [
        "#33. Train a Random Forest Classifier and analyze misclassified samples.\n",
        "\n",
        "from sklearn.datasets import load_breast_cancer\n",
        "from sklearn.model_selection import train_test_split\n",
        "from sklearn.ensemble import RandomForestClassifier\n",
        "from sklearn.metrics import accuracy_score\n",
        "\n",
        "# Load dataset\n",
        "data = load_breast_cancer()\n",
        "X = data.data\n",
        "y = data.target\n",
        "\n",
        "# Split into train and test\n",
        "X_train, X_test, y_train, y_test = train_test_split(X, y, test_size=0.2, random_state=42)\n",
        "\n",
        "# Initialize and train the Random Forest Classifier\n",
        "rf = RandomForestClassifier(n_estimators=100, random_state=42)\n",
        "rf.fit(X_train, y_train)\n",
        "\n",
        "# Make predictions on the test set\n",
        "y_pred = rf.predict(X_test)\n",
        "\n",
        "# Calculate accuracy\n",
        "accuracy = accuracy_score(y_test, y_pred)\n",
        "print(f\"Accuracy of the Random Forest Classifier: {accuracy:.4f}\")\n",
        "\n",
        "# Identify misclassified samples\n",
        "misclassified = (y_pred != y_test)\n",
        "\n",
        "# Display misclassified samples\n",
        "print(\"\\nMisclassified Samples:\")\n",
        "for i in range(len(X_test)):\n",
        "    if misclassified[i]:\n",
        "        print(f\"Sample {i}: True label = {y_test[i]}, Predicted label = {y_pred[i]}\")\n"
      ],
      "metadata": {
        "id": "XAalr8NmMX-q",
        "colab": {
          "base_uri": "https://localhost:8080/"
        },
        "outputId": "cae9a88d-2ba1-45fa-9d08-db36e559b583"
      },
      "execution_count": null,
      "outputs": [
        {
          "output_type": "stream",
          "name": "stdout",
          "text": [
            "Accuracy of the Random Forest Classifier: 0.9649\n",
            "\n",
            "Misclassified Samples:\n",
            "Sample 8: True label = 1, Predicted label = 0\n",
            "Sample 20: True label = 0, Predicted label = 1\n",
            "Sample 77: True label = 0, Predicted label = 1\n",
            "Sample 82: True label = 0, Predicted label = 1\n"
          ]
        }
      ]
    },
    {
      "cell_type": "code",
      "source": [
        "#34. Train a Bagging Classifier and compare its performance with a single Decision Tree Classifier.\n",
        "\n",
        "# Import necessary libraries\n",
        "from sklearn.datasets import load_iris\n",
        "from sklearn.model_selection import train_test_split\n",
        "from sklearn.tree import DecisionTreeClassifier\n",
        "from sklearn.ensemble import BaggingClassifier\n",
        "from sklearn.metrics import accuracy_score\n",
        "import matplotlib.pyplot as plt\n",
        "\n",
        "# Load the dataset\n",
        "data = load_iris()\n",
        "X = data.data\n",
        "y = data.target\n",
        "\n",
        "# Split data into training and testing sets\n",
        "X_train, X_test, y_train, y_test = train_test_split(X, y, test_size=0.3, random_state=42)\n",
        "\n",
        "# Train a Decision Tree Classifier\n",
        "dt_classifier = DecisionTreeClassifier(random_state=42)\n",
        "dt_classifier.fit(X_train, y_train)\n",
        "\n",
        "# Predict using the Decision Tree\n",
        "y_pred_dt = dt_classifier.predict(X_test)\n",
        "\n",
        "# Train a Bagging Classifier (default estimator is DecisionTreeClassifier)\n",
        "bagging_classifier = BaggingClassifier(DecisionTreeClassifier(), n_estimators=50, random_state=42)\n",
        "bagging_classifier.fit(X_train, y_train)\n",
        "\n",
        "# Predict using the Bagging Classifier\n",
        "y_pred_bagging = bagging_classifier.predict(X_test)\n",
        "\n",
        "# Evaluate performance\n",
        "accuracy_dt = accuracy_score(y_test, y_pred_dt)\n",
        "accuracy_bagging = accuracy_score(y_test, y_pred_bagging)\n",
        "\n",
        "# Print results\n",
        "print(f\"Accuracy of Decision Tree: {accuracy_dt:.4f}\")\n",
        "print(f\"Accuracy of Bagging Classifier: {accuracy_bagging:.4f}\")\n",
        "\n",
        "# Visualizing performance comparison\n",
        "models = ['Decision Tree', 'Bagging Classifier']\n",
        "accuracies = [accuracy_dt, accuracy_bagging]\n",
        "\n",
        "plt.bar(models, accuracies, color=['blue', 'green'])\n",
        "plt.xlabel('Model')\n",
        "plt.ylabel('Accuracy')\n",
        "plt.title('Comparison of Decision Tree and Bagging Classifier')\n",
        "plt.show()\n"
      ],
      "metadata": {
        "id": "73Se4UG7MbDO",
        "colab": {
          "base_uri": "https://localhost:8080/",
          "height": 507
        },
        "outputId": "4496bf26-ec00-40e7-a4be-22340365eaa8"
      },
      "execution_count": null,
      "outputs": [
        {
          "output_type": "stream",
          "name": "stdout",
          "text": [
            "Accuracy of Decision Tree: 1.0000\n",
            "Accuracy of Bagging Classifier: 1.0000\n"
          ]
        },
        {
          "output_type": "display_data",
          "data": {
            "text/plain": [
              "<Figure size 640x480 with 1 Axes>"
            ],
            "image/png": "[encoded data removed]"
          },
          "metadata": {}
        }
      ]
    },
    {
      "cell_type": "code",
      "source": [
        "#35. Train a Random Forest Classifier and visualize the confusion matrix.\n",
        "\n",
        "# Import necessary libraries\n",
        "from sklearn.datasets import load_iris\n",
        "from sklearn.model_selection import train_test_split\n",
        "from sklearn.ensemble import RandomForestClassifier\n",
        "from sklearn.metrics import confusion_matrix\n",
        "import seaborn as sns\n",
        "import matplotlib.pyplot as plt\n",
        "\n",
        "# Load the dataset\n",
        "data = load_iris()\n",
        "X = data.data\n",
        "y = data.target\n",
        "\n",
        "# Split data into training and testing sets\n",
        "X_train, X_test, y_train, y_test = train_test_split(X, y, test_size=0.3, random_state=42)\n",
        "\n",
        "# Train a Random Forest Classifier\n",
        "rf_classifier = RandomForestClassifier(n_estimators=100, random_state=42)\n",
        "rf_classifier.fit(X_train, y_train)\n",
        "\n",
        "# Predict using the Random Forest\n",
        "y_pred_rf = rf_classifier.predict(X_test)\n",
        "\n",
        "# Compute the confusion matrix\n",
        "cm = confusion_matrix(y_test, y_pred_rf)\n",
        "\n",
        "# Visualize the confusion matrix using a heatmap\n",
        "plt.figure(figsize=(8, 6))\n",
        "sns.heatmap(cm, annot=True, fmt=\"d\", cmap=\"Blues\", xticklabels=data.target_names, yticklabels=data.target_names)\n",
        "plt.xlabel('Predicted')\n",
        "plt.ylabel('True')\n",
        "plt.title('Confusion Matrix for Random Forest Classifier')\n",
        "plt.show()\n"
      ],
      "metadata": {
        "id": "THqMTrD-Mfk_",
        "colab": {
          "base_uri": "https://localhost:8080/",
          "height": 564
        },
        "outputId": "d6132aa2-2136-44e1-a823-7ee807a327a6"
      },
      "execution_count": null,
      "outputs": [
        {
          "output_type": "display_data",
          "data": {
            "text/plain": [
              "<Figure size 800x600 with 2 Axes>"
            ],
            "image/png": "[encoded data removed]"
          },
          "metadata": {}
        }
      ]
    },
    {
      "cell_type": "code",
      "source": [
        "#36. Train a Stacking Classifier using Decision Trees, SVM, and Logistic Regression, and compare accuracy.\n",
        "\n",
        "# Import necessary libraries\n",
        "from sklearn.datasets import load_iris\n",
        "from sklearn.model_selection import train_test_split\n",
        "from sklearn.tree import DecisionTreeClassifier\n",
        "from sklearn.svm import SVC\n",
        "from sklearn.linear_model import LogisticRegression\n",
        "from sklearn.ensemble import StackingClassifier\n",
        "from sklearn.metrics import accuracy_score\n",
        "import matplotlib.pyplot as plt\n",
        "\n",
        "# Load the dataset\n",
        "data = load_iris()\n",
        "X = data.data\n",
        "y = data.target\n",
        "\n",
        "# Split data into training and testing sets\n",
        "X_train, X_test, y_train, y_test = train_test_split(X, y, test_size=0.3, random_state=42)\n",
        "\n",
        "# Train individual models\n",
        "dt_classifier = DecisionTreeClassifier(random_state=42)\n",
        "svm_classifier = SVC(random_state=42)\n",
        "lr_classifier = LogisticRegression(max_iter=1000, random_state=42)\n",
        "\n",
        "# Train a Stacking Classifier (using Logistic Regression as the final estimator)\n",
        "stacking_classifier = StackingClassifier(\n",
        "    estimators=[('dt', dt_classifier), ('svm', svm_classifier), ('lr', lr_classifier)],\n",
        "    final_estimator=LogisticRegression(random_state=42)\n",
        ")\n",
        "\n",
        "# Fit individual models\n",
        "dt_classifier.fit(X_train, y_train)\n",
        "svm_classifier.fit(X_train, y_train)\n",
        "lr_classifier.fit(X_train, y_train)\n",
        "\n",
        "# Fit the Stacking Classifier\n",
        "stacking_classifier.fit(X_train, y_train)\n",
        "\n",
        "# Predict using the models\n",
        "y_pred_dt = dt_classifier.predict(X_test)\n",
        "y_pred_svm = svm_classifier.predict(X_test)\n",
        "y_pred_lr = lr_classifier.predict(X_test)\n",
        "y_pred_stacking = stacking_classifier.predict(X_test)\n",
        "\n",
        "# Evaluate performance\n",
        "accuracy_dt = accuracy_score(y_test, y_pred_dt)\n",
        "accuracy_svm = accuracy_score(y_test, y_pred_svm)\n",
        "accuracy_lr = accuracy_score(y_test, y_pred_lr)\n",
        "accuracy_stacking = accuracy_score(y_test, y_pred_stacking)\n",
        "\n",
        "# Print results\n",
        "print(f\"Accuracy of Decision Tree: {accuracy_dt:.4f}\")\n",
        "print(f\"Accuracy of SVM: {accuracy_svm:.4f}\")\n",
        "print(f\"Accuracy of Logistic Regression: {accuracy_lr:.4f}\")\n",
        "print(f\"Accuracy of Stacking Classifier: {accuracy_stacking:.4f}\")\n",
        "\n",
        "# Visualizing the accuracy comparison\n",
        "models = ['Decision Tree', 'SVM', 'Logistic Regression', 'Stacking Classifier']\n",
        "accuracies = [accuracy_dt, accuracy_svm, accuracy_lr, accuracy_stacking]\n",
        "\n",
        "plt.bar(models, accuracies, color=['blue', 'green', 'red', 'orange'])\n",
        "plt.xlabel('Model')\n",
        "plt.ylabel('Accuracy')\n",
        "plt.title('Comparison of Model Accuracies')\n",
        "plt.show()\n"
      ],
      "metadata": {
        "id": "sO60u3UaMioL",
        "colab": {
          "base_uri": "https://localhost:8080/",
          "height": 541
        },
        "outputId": "b0c4885b-0e01-49db-f009-12007445277a"
      },
      "execution_count": null,
      "outputs": [
        {
          "output_type": "stream",
          "name": "stdout",
          "text": [
            "Accuracy of Decision Tree: 1.0000\n",
            "Accuracy of SVM: 1.0000\n",
            "Accuracy of Logistic Regression: 1.0000\n",
            "Accuracy of Stacking Classifier: 1.0000\n"
          ]
        },
        {
          "output_type": "display_data",
          "data": {
            "text/plain": [
              "<Figure size 640x480 with 1 Axes>"
            ],
            "image/png": "[encoded data removed]"
          },
          "metadata": {}
        }
      ]
    },
    {
      "cell_type": "code",
      "source": [
        "#37. Train a Random Forest Classifier and print the top 5 most important features.\n",
        "\n",
        "# Import necessary libraries\n",
        "from sklearn.datasets import load_iris\n",
        "from sklearn.ensemble import RandomForestClassifier\n",
        "import pandas as pd\n",
        "\n",
        "# Load the dataset\n",
        "data = load_iris()\n",
        "X = data.data\n",
        "y = data.target\n",
        "\n",
        "# Train a Random Forest Classifier\n",
        "rf_classifier = RandomForestClassifier(n_estimators=100, random_state=42)\n",
        "rf_classifier.fit(X, y)\n",
        "\n",
        "# Get feature importances\n",
        "feature_importances = rf_classifier.feature_importances_\n",
        "\n",
        "# Create a DataFrame to display feature importances with their corresponding feature names\n",
        "feature_names = data.feature_names\n",
        "feature_df = pd.DataFrame({\n",
        "    'Feature': feature_names,\n",
        "    'Importance': feature_importances\n",
        "})\n",
        "\n",
        "# Sort the features by importance in descending order and display the top 5\n",
        "feature_df_sorted = feature_df.sort_values(by='Importance', ascending=False).head(5)\n",
        "print(feature_df_sorted)\n"
      ],
      "metadata": {
        "id": "tLfJU7dzMl9w",
        "colab": {
          "base_uri": "https://localhost:8080/"
        },
        "outputId": "c721f193-0da7-4920-b3f9-c57b5b68b456"
      },
      "execution_count": null,
      "outputs": [
        {
          "output_type": "stream",
          "name": "stdout",
          "text": [
            "             Feature  Importance\n",
            "2  petal length (cm)    0.436130\n",
            "3   petal width (cm)    0.436065\n",
            "0  sepal length (cm)    0.106128\n",
            "1   sepal width (cm)    0.021678\n"
          ]
        }
      ]
    },
    {
      "cell_type": "code",
      "source": [
        "#38. Train a Bagging Classifier and evaluate performance using Precision, Recall, and F1-score.\n",
        "\n",
        "# Import necessary libraries\n",
        "from sklearn.datasets import load_iris\n",
        "from sklearn.model_selection import train_test_split\n",
        "from sklearn.ensemble import BaggingClassifier\n",
        "from sklearn.tree import DecisionTreeClassifier\n",
        "from sklearn.metrics import precision_score, recall_score, f1_score\n",
        "\n",
        "# Load the dataset\n",
        "data = load_iris()\n",
        "X = data.data\n",
        "y = data.target\n",
        "\n",
        "# Split data into training and testing sets\n",
        "X_train, X_test, y_train, y_test = train_test_split(X, y, test_size=0.3, random_state=42)\n",
        "\n",
        "# Train a Bagging Classifier using Decision Tree as base estimator\n",
        "bagging_classifier = BaggingClassifier(estimator=DecisionTreeClassifier(), n_estimators=50, random_state=42)\n",
        "bagging_classifier.fit(X_train, y_train)\n",
        "\n",
        "# Predict using the Bagging Classifier\n",
        "y_pred = bagging_classifier.predict(X_test)\n",
        "\n",
        "# Evaluate performance\n",
        "precision = precision_score(y_test, y_pred, average='weighted', zero_division=1)\n",
        "recall = recall_score(y_test, y_pred, average='weighted')\n",
        "f1 = f1_score(y_test, y_pred, average='weighted')\n",
        "\n",
        "# Print the evaluation metrics\n",
        "print(f\"Precision: {precision:.4f}\")\n",
        "print(f\"Recall: {recall:.4f}\")\n",
        "print(f\"F1-Score: {f1:.4f}\")\n",
        "\n"
      ],
      "metadata": {
        "id": "IE3AIHYzMpnw",
        "colab": {
          "base_uri": "https://localhost:8080/"
        },
        "outputId": "974f1449-8b4d-46c8-bd2d-15c66d386bcd"
      },
      "execution_count": null,
      "outputs": [
        {
          "output_type": "stream",
          "name": "stdout",
          "text": [
            "Precision: 1.0000\n",
            "Recall: 1.0000\n",
            "F1-Score: 1.0000\n"
          ]
        }
      ]
    },
    {
      "cell_type": "code",
      "source": [
        "#39. Train a Random Forest Classifier and analyze the effect of max_depth on accuracy.\n",
        "\n",
        "# Import necessary libraries\n",
        "from sklearn.datasets import load_iris\n",
        "from sklearn.model_selection import train_test_split\n",
        "from sklearn.ensemble import RandomForestClassifier\n",
        "from sklearn.metrics import accuracy_score\n",
        "import matplotlib.pyplot as plt\n",
        "\n",
        "# Load the dataset\n",
        "data = load_iris()\n",
        "X = data.data\n",
        "y = data.target\n",
        "\n",
        "# Split data into training and testing sets\n",
        "X_train, X_test, y_train, y_test = train_test_split(X, y, test_size=0.3, random_state=42)\n",
        "\n",
        "# List of different max_depth values to evaluate\n",
        "max_depth_values = range(1, 21)\n",
        "\n",
        "# Store the accuracy for each value of max_depth\n",
        "accuracies = []\n",
        "\n",
        "# Train Random Forest with different max_depth values\n",
        "for max_depth in max_depth_values:\n",
        "    rf_classifier = RandomForestClassifier(max_depth=max_depth, n_estimators=100, random_state=42)\n",
        "    rf_classifier.fit(X_train, y_train)\n",
        "    y_pred = rf_classifier.predict(X_test)\n",
        "    accuracy = accuracy_score(y_test, y_pred)\n",
        "    accuracies.append(accuracy)\n",
        "\n",
        "# Visualize the effect of max_depth on accuracy\n",
        "plt.plot(max_depth_values, accuracies, marker='o')\n",
        "plt.xlabel('Max Depth')\n",
        "plt.ylabel('Accuracy')\n",
        "plt.title('Effect of Max Depth on Accuracy (Random Forest)')\n",
        "plt.xticks(max_depth_values)\n",
        "plt.grid(True)\n",
        "plt.show()\n",
        "\n",
        "# Print the accuracy values\n",
        "for max_depth, accuracy in zip(max_depth_values, accuracies):\n",
        "    print(f\"Max Depth: {max_depth}, Accuracy: {accuracy:.4f}\")\n"
      ],
      "metadata": {
        "id": "IcIHjs0UMtG0",
        "colab": {
          "base_uri": "https://localhost:8080/",
          "height": 819
        },
        "outputId": "1e6c0ea9-9e65-45f4-aa80-936764eae38f"
      },
      "execution_count": null,
      "outputs": [
        {
          "output_type": "display_data",
          "data": {
            "text/plain": [
              "<Figure size 640x480 with 1 Axes>"
            ],
            "image/png": "[encoded data removed]"
          },
          "metadata": {}
        },
        {
          "output_type": "stream",
          "name": "stdout",
          "text": [
            "Max Depth: 1, Accuracy: 1.0000\n",
            "Max Depth: 2, Accuracy: 1.0000\n",
            "Max Depth: 3, Accuracy: 1.0000\n",
            "Max Depth: 4, Accuracy: 1.0000\n",
            "Max Depth: 5, Accuracy: 1.0000\n",
            "Max Depth: 6, Accuracy: 1.0000\n",
            "Max Depth: 7, Accuracy: 1.0000\n",
            "Max Depth: 8, Accuracy: 1.0000\n",
            "Max Depth: 9, Accuracy: 1.0000\n",
            "Max Depth: 10, Accuracy: 1.0000\n",
            "Max Depth: 11, Accuracy: 1.0000\n",
            "Max Depth: 12, Accuracy: 1.0000\n",
            "Max Depth: 13, Accuracy: 1.0000\n",
            "Max Depth: 14, Accuracy: 1.0000\n",
            "Max Depth: 15, Accuracy: 1.0000\n",
            "Max Depth: 16, Accuracy: 1.0000\n",
            "Max Depth: 17, Accuracy: 1.0000\n",
            "Max Depth: 18, Accuracy: 1.0000\n",
            "Max Depth: 19, Accuracy: 1.0000\n",
            "Max Depth: 20, Accuracy: 1.0000\n"
          ]
        }
      ]
    },
    {
      "cell_type": "code",
      "source": [
        "#40. Train a Bagging Regressor using different base estimators (DecisionTree and KNeighbors) and compare performance.\n",
        "# Import necessary libraries\n",
        "from sklearn.datasets import fetch_california_housing\n",
        "from sklearn.model_selection import train_test_split\n",
        "from sklearn.ensemble import BaggingRegressor\n",
        "from sklearn.tree import DecisionTreeRegressor\n",
        "from sklearn.neighbors import KNeighborsRegressor\n",
        "from sklearn.metrics import mean_squared_error\n",
        "\n",
        "# Load the dataset\n",
        "data = fetch_california_housing()\n",
        "X = data.data\n",
        "y = data.target\n",
        "\n",
        "# Split data into training and testing sets\n",
        "X_train, X_test, y_train, y_test = train_test_split(X, y, test_size=0.3, random_state=42)\n",
        "\n",
        "# Train a Bagging Regressor with Decision Tree as the base estimator\n",
        "bagging_dt = BaggingRegressor(estimator=DecisionTreeRegressor(), n_estimators=50, random_state=42)\n",
        "bagging_dt.fit(X_train, y_train)\n",
        "y_pred_dt = bagging_dt.predict(X_test)\n",
        "\n",
        "# Train a Bagging Regressor with KNeighbors as the base estimator\n",
        "bagging_knn = BaggingRegressor(estimator=KNeighborsRegressor(), n_estimators=50, random_state=42)\n",
        "bagging_knn.fit(X_train, y_train)\n",
        "y_pred_knn = bagging_knn.predict(X_test)\n",
        "\n",
        "# Evaluate performance using Mean Squared Error (MSE)\n",
        "mse_dt = mean_squared_error(y_test, y_pred_dt)\n",
        "mse_knn = mean_squared_error(y_test, y_pred_knn)\n",
        "\n",
        "# Print the MSE for both models\n",
        "print(f\"Mean Squared Error (Decision Tree as base estimator): {mse_dt:.4f}\")\n",
        "print(f\"Mean Squared Error (KNeighbors as base estimator): {mse_knn:.4f}\")\n",
        "\n",
        "\n"
      ],
      "metadata": {
        "id": "TGzEcWWbMw6W",
        "colab": {
          "base_uri": "https://localhost:8080/"
        },
        "outputId": "2d067577-e858-4cd1-a156-3328ca0b3354"
      },
      "execution_count": null,
      "outputs": [
        {
          "output_type": "stream",
          "name": "stdout",
          "text": [
            "Mean Squared Error (Decision Tree as base estimator): 0.2579\n",
            "Mean Squared Error (KNeighbors as base estimator): 1.1021\n"
          ]
        }
      ]
    },
    {
      "cell_type": "code",
      "source": [
        "#41. Train a Random Forest Classifier and evaluate its performance using ROC-AUC Score.\n",
        "\n",
        "# Import necessary libraries\n",
        "from sklearn.datasets import load_iris\n",
        "from sklearn.model_selection import train_test_split\n",
        "from sklearn.ensemble import RandomForestClassifier\n",
        "from sklearn.metrics import roc_auc_score, roc_curve\n",
        "import matplotlib.pyplot as plt\n",
        "\n",
        "# Load the dataset\n",
        "data = load_iris()\n",
        "X = data.data\n",
        "y = data.target\n",
        "\n",
        "# We are dealing with a multi-class classification problem. For ROC-AUC, we will handle it as a multi-class problem.\n",
        "# Split data into training and testing sets\n",
        "X_train, X_test, y_train, y_test = train_test_split(X, y, test_size=0.3, random_state=42)\n",
        "\n",
        "# Train the Random Forest Classifier\n",
        "rf_classifier = RandomForestClassifier(n_estimators=100, random_state=42)\n",
        "rf_classifier.fit(X_train, y_train)\n",
        "\n",
        "# Predict the probability for each class\n",
        "y_prob = rf_classifier.predict_proba(X_test)\n",
        "\n",
        "# Calculate ROC-AUC for each class (since it's multi-class, we calculate for each class)\n",
        "roc_auc = roc_auc_score(y_test, y_prob, multi_class='ovr')\n",
        "\n",
        "# Print the ROC-AUC score\n",
        "print(f\"ROC-AUC Score: {roc_auc:.4f}\")\n",
        "\n",
        "# Plot ROC curve for each class\n",
        "fpr, tpr, thresholds = roc_curve(y_test, y_prob[:, 1], pos_label=1)\n",
        "plt.plot(fpr, tpr, label='Class 1 vs Rest')\n",
        "fpr, tpr, thresholds = roc_curve(y_test, y_prob[:, 2], pos_label=2)\n",
        "plt.plot(fpr, tpr, label='Class 2 vs Rest')\n",
        "fpr, tpr, thresholds = roc_curve(y_test, y_prob[:, 0], pos_label=0)\n",
        "plt.plot(fpr, tpr, label='Class 0 vs Rest')\n",
        "\n",
        "# Add labels and legend\n",
        "plt.xlabel('False Positive Rate')\n",
        "plt.ylabel('True Positive Rate')\n",
        "plt.title('ROC Curve')\n",
        "plt.legend(loc='best')\n",
        "plt.grid(True)\n",
        "plt.show()\n"
      ],
      "metadata": {
        "id": "UQhugapLM3wv",
        "colab": {
          "base_uri": "https://localhost:8080/",
          "height": 489
        },
        "outputId": "db199c18-4279-49ba-d056-e079c85e0d0b"
      },
      "execution_count": null,
      "outputs": [
        {
          "output_type": "stream",
          "name": "stdout",
          "text": [
            "ROC-AUC Score: 1.0000\n"
          ]
        },
        {
          "output_type": "display_data",
          "data": {
            "text/plain": [
              "<Figure size 640x480 with 1 Axes>"
            ],
            "image/png": "[encoded data removed]"
          },
          "metadata": {}
        }
      ]
    },
    {
      "cell_type": "code",
      "source": [
        "#42. Train a Bagging Classifier and evaluate its performance using cross-validation.\n",
        "\n",
        "# Import necessary libraries\n",
        "from sklearn.datasets import load_iris\n",
        "from sklearn.model_selection import cross_val_score\n",
        "from sklearn.ensemble import BaggingClassifier\n",
        "from sklearn.tree import DecisionTreeClassifier\n",
        "import numpy as np\n",
        "\n",
        "# Load the dataset\n",
        "data = load_iris()\n",
        "X = data.data\n",
        "y = data.target\n",
        "\n",
        "# Initialize the Bagging Classifier with a Decision Tree as the base estimator\n",
        "bagging_classifier = BaggingClassifier(DecisionTreeClassifier(), n_estimators=50, random_state=42)\n",
        "\n",
        "# Perform cross-validation and get accuracy scores\n",
        "cv_scores = cross_val_score(bagging_classifier, X, y, cv=5, scoring='accuracy')\n",
        "\n",
        "# Print the accuracy scores for each fold\n",
        "print(f\"Accuracy scores for each fold: {cv_scores}\")\n",
        "\n",
        "# Calculate the mean and standard deviation of the cross-validation scores\n",
        "mean_accuracy = np.mean(cv_scores)\n",
        "std_accuracy = np.std(cv_scores)\n",
        "\n",
        "print(f\"Mean accuracy: {mean_accuracy:.4f}\")\n",
        "print(f\"Standard deviation of accuracy: {std_accuracy:.4f}\")\n",
        "\n"
      ],
      "metadata": {
        "id": "_S_OkkdaM6yF",
        "colab": {
          "base_uri": "https://localhost:8080/"
        },
        "outputId": "18b1f90d-d4a7-4a40-f38d-96ce8544838b"
      },
      "execution_count": null,
      "outputs": [
        {
          "output_type": "stream",
          "name": "stdout",
          "text": [
            "Accuracy scores for each fold: [0.96666667 0.96666667 0.93333333 0.96666667 1.        ]\n",
            "Mean accuracy: 0.9667\n",
            "Standard deviation of accuracy: 0.0211\n"
          ]
        }
      ]
    },
    {
      "cell_type": "code",
      "source": [
        "#43. Train a Random Forest Classifier and plot the Precision-Recall curve.\n",
        "\n",
        "# Import necessary libraries\n",
        "from sklearn.datasets import load_iris\n",
        "from sklearn.model_selection import train_test_split\n",
        "from sklearn.ensemble import RandomForestClassifier\n",
        "from sklearn.metrics import precision_recall_curve\n",
        "import matplotlib.pyplot as plt\n",
        "from sklearn.preprocessing import label_binarize\n",
        "\n",
        "# Load the dataset\n",
        "data = load_iris()\n",
        "X = data.data\n",
        "y = data.target\n",
        "\n",
        "# Convert the target to binary classification (for Precision-Recall curve)\n",
        "# For this example, we will treat one class as the positive class, and the others as negative\n",
        "y_binary = label_binarize(y, classes=[0, 1, 2])  # Convert to binary (class 1 vs others)\n",
        "\n",
        "# Split data into training and testing sets\n",
        "X_train, X_test, y_train, y_test = train_test_split(X, y_binary[:, 1], test_size=0.3, random_state=42)  # Using class 1 vs others\n",
        "\n",
        "# Train the Random Forest Classifier\n",
        "rf_classifier = RandomForestClassifier(n_estimators=100, random_state=42)\n",
        "rf_classifier.fit(X_train, y_train)\n",
        "\n",
        "# Predict probabilities for the positive class (class 1)\n",
        "y_prob = rf_classifier.predict_proba(X_test)[:, 1]\n",
        "\n",
        "# Calculate Precision and Recall for different thresholds\n",
        "precision, recall, thresholds = precision_recall_curve(y_test, y_prob)\n",
        "\n",
        "# Plot the Precision-Recall curve\n",
        "plt.figure(figsize=(8, 6))\n",
        "plt.plot(recall, precision, color='b', label='Random Forest')\n",
        "plt.xlabel('Recall')\n",
        "plt.ylabel('Precision')\n",
        "plt.title('Precision-Recall Curve')\n",
        "plt.legend(loc='best')\n",
        "plt.grid(True)\n",
        "plt.show()\n"
      ],
      "metadata": {
        "id": "kjb9ht7ENBpJ",
        "colab": {
          "base_uri": "https://localhost:8080/",
          "height": 564
        },
        "outputId": "e37566b1-5b59-4831-9e97-bf1e1a1deabc"
      },
      "execution_count": null,
      "outputs": [
        {
          "output_type": "display_data",
          "data": {
            "text/plain": [
              "<Figure size 800x600 with 1 Axes>"
            ],
            "image/png": "[encoded data removed]"
          },
          "metadata": {}
        }
      ]
    },
    {
      "cell_type": "code",
      "source": [
        "#44. Train a Stacking Classifier with Random Forest and Logistic Regression and compare accuracy.\n",
        "\n",
        "# Import necessary libraries\n",
        "from sklearn.datasets import load_iris\n",
        "from sklearn.model_selection import train_test_split\n",
        "from sklearn.ensemble import RandomForestClassifier, StackingClassifier\n",
        "from sklearn.linear_model import LogisticRegression\n",
        "from sklearn.metrics import accuracy_score\n",
        "\n",
        "# Load the dataset\n",
        "data = load_iris()\n",
        "X = data.data\n",
        "y = data.target\n",
        "\n",
        "# Split data into training and testing sets\n",
        "X_train, X_test, y_train, y_test = train_test_split(X, y, test_size=0.3, random_state=42)\n",
        "\n",
        "# Initialize the base models\n",
        "rf_classifier = RandomForestClassifier(n_estimators=100, random_state=42)\n",
        "logreg_classifier = LogisticRegression(max_iter=200, random_state=42)\n",
        "\n",
        "# Initialize the Stacking Classifier with Random Forest and Logistic Regression as base models\n",
        "stacking_classifier = StackingClassifier(\n",
        "    estimators=[('rf', rf_classifier), ('logreg', logreg_classifier)],\n",
        "    final_estimator=LogisticRegression()  # Meta-model\n",
        ")\n",
        "\n",
        "# Train the classifiers\n",
        "rf_classifier.fit(X_train, y_train)\n",
        "logreg_classifier.fit(X_train, y_train)\n",
        "stacking_classifier.fit(X_train, y_train)\n",
        "\n",
        "# Predict the accuracy on the test set\n",
        "rf_accuracy = accuracy_score(y_test, rf_classifier.predict(X_test))\n",
        "logreg_accuracy = accuracy_score(y_test, logreg_classifier.predict(X_test))\n",
        "stacking_accuracy = accuracy_score(y_test, stacking_classifier.predict(X_test))\n",
        "\n",
        "# Print the accuracy of individual classifiers and the stacking classifier\n",
        "print(f\"Random Forest Classifier Accuracy: {rf_accuracy:.4f}\")\n",
        "print(f\"Logistic Regression Classifier Accuracy: {logreg_accuracy:.4f}\")\n",
        "print(f\"Stacking Classifier Accuracy: {stacking_accuracy:.4f}\")\n"
      ],
      "metadata": {
        "id": "uyowzBbENFeg",
        "colab": {
          "base_uri": "https://localhost:8080/"
        },
        "outputId": "90062a1b-7340-4202-ef83-ac19c18e9a03"
      },
      "execution_count": null,
      "outputs": [
        {
          "output_type": "stream",
          "name": "stdout",
          "text": [
            "Random Forest Classifier Accuracy: 1.0000\n",
            "Logistic Regression Classifier Accuracy: 1.0000\n",
            "Stacking Classifier Accuracy: 1.0000\n"
          ]
        }
      ]
    },
    {
      "cell_type": "code",
      "source": [
        "#45. Train a Bagging Regressor with different levels of bootstrap samples and compare performance.\n",
        "\n",
        "# Import necessary libraries\n",
        "from sklearn.datasets import make_regression\n",
        "from sklearn.ensemble import BaggingRegressor\n",
        "from sklearn.tree import DecisionTreeRegressor\n",
        "from sklearn.metrics import mean_squared_error\n",
        "import matplotlib.pyplot as plt\n",
        "import numpy as np\n",
        "from sklearn.model_selection import train_test_split\n",
        "\n",
        "# Generate synthetic regression data\n",
        "X, y = make_regression(n_samples=1000, n_features=20, noise=0.1, random_state=42)\n",
        "\n",
        "# Split data into training and testing sets\n",
        "X_train, X_test, y_train, y_test = train_test_split(X, y, test_size=0.3, random_state=42)\n",
        "\n",
        "# Define different levels of bootstrap samples (max_samples)\n",
        "bootstrap_samples = [0.1, 0.3, 0.5, 0.7, 1.0]\n",
        "\n",
        "# Store the mean squared errors for each model\n",
        "mse_scores = []\n",
        "\n",
        "# Train Bagging Regressor with different max_samples\n",
        "for max_samples in bootstrap_samples:\n",
        "    # Initialize the Bagging Regressor with DecisionTreeRegressor as base estimator\n",
        "    bagging_regressor = BaggingRegressor(DecisionTreeRegressor(),\n",
        "                                        n_estimators=50,\n",
        "                                        max_samples=max_samples,\n",
        "                                        random_state=42)\n",
        "\n",
        "    # Train the model\n",
        "    bagging_regressor.fit(X_train, y_train)\n",
        "\n",
        "    # Predict on the test set\n",
        "    y_pred = bagging_regressor.predict(X_test)\n",
        "\n",
        "    # Calculate Mean Squared Error\n",
        "    mse = mean_squared_error(y_test, y_pred)\n",
        "    mse_scores.append(mse)\n",
        "\n",
        "# Plot the performance comparison\n",
        "plt.figure(figsize=(8, 6))\n",
        "plt.plot(bootstrap_samples, mse_scores, marker='o', color='b')\n",
        "plt.xlabel('Proportion of Bootstrap Samples (max_samples)')\n",
        "plt.ylabel('Mean Squared Error (MSE)')\n",
        "plt.title('Bagging Regressor Performance with Different Bootstrap Sample Sizes')\n",
        "plt.grid(True)\n",
        "plt.show()\n",
        "\n",
        "# Print the MSE scores for each max_samples value\n",
        "for max_samples, mse in zip(bootstrap_samples, mse_scores):\n",
        "    print(f\"Max samples = {max_samples:.1f} | MSE = {mse:.4f}\")\n",
        "\n"
      ],
      "metadata": {
        "id": "BQCLpC5RNKgI",
        "colab": {
          "base_uri": "https://localhost:8080/",
          "height": 651
        },
        "outputId": "05f2aac7-5c82-446d-c5fb-4fb0081e0407"
      },
      "execution_count": 25,
      "outputs": [
        {
          "output_type": "display_data",
          "data": {
            "text/plain": [
              "<Figure size 800x600 with 1 Axes>"
            ],
            "image/png": "[encoded data removed]"
          },
          "metadata": {}
        },
        {
          "output_type": "stream",
          "name": "stdout",
          "text": [
            "Max samples = 0.1 | MSE = 13906.1850\n",
            "Max samples = 0.3 | MSE = 9391.9803\n",
            "Max samples = 0.5 | MSE = 8189.8652\n",
            "Max samples = 0.7 | MSE = 7504.7678\n",
            "Max samples = 1.0 | MSE = 7746.5214\n"
          ]
        }
      ]
    }
  ]
}